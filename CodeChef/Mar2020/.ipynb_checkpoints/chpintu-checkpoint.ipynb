{
 "cells": [
  {
   "cell_type": "code",
   "execution_count": 8,
   "metadata": {},
   "outputs": [
    {
     "name": "stdout",
     "output_type": "stream",
     "text": [
      "1\n",
      "6 4\n",
      "1 2 3 3 2 2\n",
      "7 3 9 1 1 1\n",
      "5\n"
     ]
    }
   ],
   "source": [
    "def main():\n",
    "\ttestCase=eval(input())\n",
    "\tfor i in range(testCase):\n",
    "\t    [n,m]=map(int,input().split())\n",
    "\t    f=list(map(int,input().split()))\n",
    "\t    p=list(map(int,input().split()))\n",
    "\t    a=[-1 for k in range(m+1)]            \n",
    "\t    for j in range(n):\n",
    "\t        a[f[j]]=a[f[j]]+p[j]\n",
    "\t    output=2501\n",
    "\t    #print(a)\n",
    "\t    for j in range(m+1):\n",
    "\t        if(a[j] != -1 and a[j]<output):\n",
    "\t            output = a[j]\n",
    "\t    print(output+1)\n",
    "main()\n"
   ]
  },
  {
   "cell_type": "code",
   "execution_count": null,
   "metadata": {},
   "outputs": [],
   "source": [
    "6 4\n",
    "1 2 3 3 2 2\n",
    "7 3 9 1 1 1"
   ]
  }
 ],
 "metadata": {
  "kernelspec": {
   "display_name": "Python 3",
   "language": "python",
   "name": "python3"
  },
  "language_info": {
   "codemirror_mode": {
    "name": "ipython",
    "version": 3
   },
   "file_extension": ".py",
   "mimetype": "text/x-python",
   "name": "python",
   "nbconvert_exporter": "python",
   "pygments_lexer": "ipython3",
   "version": "3.7.3"
  }
 },
 "nbformat": 4,
 "nbformat_minor": 2
}
